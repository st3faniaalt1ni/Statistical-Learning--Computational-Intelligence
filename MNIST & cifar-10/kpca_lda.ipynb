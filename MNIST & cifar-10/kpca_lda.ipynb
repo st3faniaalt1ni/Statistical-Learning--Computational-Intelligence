{
 "cells": [
  {
   "cell_type": "code",
   "execution_count": 11,
   "metadata": {
    "colab": {
     "base_uri": "https://localhost:8080/"
    },
    "id": "qDSU3a4D09Wn",
    "outputId": "65bb600b-2c3f-449a-9418-f16eba6608eb"
   },
   "outputs": [
    {
     "name": "stdout",
     "output_type": "stream",
     "text": [
      "Requirement already satisfied: loguru in /usr/local/lib/python3.6/dist-packages (0.5.3)\n",
      "Requirement already satisfied: aiocontextvars>=0.2.0; python_version < \"3.7\" in /usr/local/lib/python3.6/dist-packages (from loguru) (0.2.2)\n",
      "Requirement already satisfied: contextvars==2.4; python_version < \"3.7\" in /usr/local/lib/python3.6/dist-packages (from aiocontextvars>=0.2.0; python_version < \"3.7\"->loguru) (2.4)\n",
      "Requirement already satisfied: immutables>=0.9 in /usr/local/lib/python3.6/dist-packages (from contextvars==2.4; python_version < \"3.7\"->aiocontextvars>=0.2.0; python_version < \"3.7\"->loguru) (0.14)\n"
     ]
    }
   ],
   "source": [
    "!pip install loguru\r\n",
    "\r\n",
    "from sklearn.decomposition import  KernelPCA\r\n",
    "from sklearn.discriminant_analysis import LinearDiscriminantAnalysis as LDA\r\n",
    "from data import prepare_data\r\n",
    "from loguru import logger\r\n",
    "import numpy as np\r\n",
    "from sklearn import neighbors\r\n",
    "from sklearn.model_selection import cross_validate\r\n",
    "from sklearn.metrics import accuracy_score, confusion_matrix, f1_score\r\n",
    "from sklearn.neighbors.nearest_centroid import NearestCentroid\r\n"
   ]
  },
  {
   "cell_type": "code",
   "execution_count": null,
   "metadata": {
    "colab": {
     "base_uri": "https://localhost:8080/"
    },
    "id": "Mvvcaqqn1nv5",
    "outputId": "b4e91f04-c7b7-46b9-ca03-392d5ae255a4"
   },
   "outputs": [
    {
     "name": "stdout",
     "output_type": "stream",
     "text": [
      "KernelPCA(alpha=1.0, coef0=1, copy_X=True, degree=3, eigen_solver='auto',\n",
      "          fit_inverse_transform=False, gamma=0.5, kernel='rbf',\n",
      "          kernel_params=None, max_iter=None, n_components=75, n_jobs=1,\n",
      "          random_state=None, remove_zero_eig=False, tol=0)\n",
      "(17000, 75)\n"
     ]
    }
   ],
   "source": [
    "DATASET = 'CIFAR10'\r\n",
    "# DATASET = 'MNIST'\r\n",
    "\r\n",
    "SEED = 0\r\n",
    "np.random.seed(SEED)  # to reproduce results (same randomness)\r\n",
    "logger.add(f'{DATASET}_kpca_lda.log')  # log results (in .log)\r\n",
    "\r\n",
    "if DATASET == 'MNIST':\r\n",
    "    X_train, X_test, y_train, y_test = prepare_data(DATASET, apply_pca=False, train_samples=17000, test_samples=10000)\r\n",
    "else:\r\n",
    "    X_train, X_test, y_train, y_test = prepare_data(DATASET, apply_pca=False, train_samples=17000, test_samples=10000)\r\n",
    "\r\n",
    "if DATASET == 'MNIST':\r\n",
    "    kpca = KernelPCA(kernel=\"poly\",n_components=87 , gamma=1, n_jobs=1) # MNIST\r\n",
    "else:\r\n",
    "    kpca = KernelPCA(kernel=\"rbf\", degree=3, n_components=75 , gamma=.5, n_jobs=1) # CIFAR-10\r\n",
    "    \r\n",
    "X_kpca = kpca.fit_transform(X_train)\r\n",
    "X_test = kpca.transform(X_test)\r\n",
    "print(kpca)\r\n",
    "print(X_kpca.shape)\r\n",
    "DATASET = 'CIFAR10'\r\n",
    "# DATASET = 'MNIST'\r\n",
    "\r\n",
    "SEED = 0\r\n",
    "np.random.seed(SEED)  # to reproduce results (same randomness)\r\n",
    "logger.add(f'{DATASET}_kpca_lda.log')  # log results (in .log)\r\n",
    "\r\n",
    "if DATASET == 'MNIST':\r\n",
    "    X_train, X_test, y_train, y_test = prepare_data(DATASET, apply_pca=False, train_samples=17000, test_samples=10000)\r\n",
    "else:\r\n",
    "    X_train, X_test, y_train, y_test = prepare_data(DATASET, apply_pca=False, train_samples=17000, test_samples=10000)\r\n",
    "\r\n",
    "if DATASET == 'MNIST':\r\n",
    "    kpca = KernelPCA(kernel=\"poly\",n_components=87 , gamma=1, n_jobs=1) # MNIST\r\n",
    "else:\r\n",
    "    kpca = KernelPCA(kernel=\"rbf\", degree=3, n_components=75 , gamma=.5, n_jobs=1) # CIFAR-10\r\n",
    "    \r\n",
    "X_kpca = kpca.fit_transform(X_train)\r\n",
    "X_test = kpca.transform(X_test)\r\n",
    "print(kpca)\r\n",
    "print(X_kpca.shape)\r\n",
    "\r\n",
    "lda = LDA()\r\n",
    "print (lda)\r\n",
    "\r\n",
    "X_lda = lda.fit_transform(X_kpca,y_train)\r\n",
    "X_test = lda.transform(X_test)\r\n",
    "print(X_lda.shape)"
   ]
  },
  {
   "cell_type": "code",
   "execution_count": null,
   "metadata": {
    "colab": {
     "base_uri": "https://localhost:8080/"
    },
    "id": "clh4yxhk9BBf",
    "outputId": "930740a4-2eee-40fb-ca71-5da1a126fb0b"
   },
   "outputs": [
    {
     "name": "stdout",
     "output_type": "stream",
     "text": [
      "KNeighborsClassifier(algorithm='auto', leaf_size=30, metric='minkowski',\n",
      "                     metric_params=None, n_jobs=None, n_neighbors=2, p=2,\n",
      "                     weights='uniform')\n"
     ]
    }
   ],
   "source": [
    "#kNN classification\r\n",
    "clf = neighbors.KNeighborsClassifier(n_neighbors=2)\r\n",
    "clf.fit(X_lda, y_train)\r\n",
    "print (clf)"
   ]
  },
  {
   "cell_type": "code",
   "execution_count": null,
   "metadata": {
    "colab": {
     "base_uri": "https://localhost:8080/"
    },
    "id": "QR6Ub96G9PTq",
    "outputId": "ee4039a2-ab02-40db-9400-a503f86ee4d9"
   },
   "outputs": [
    {
     "name": "stdout",
     "output_type": "stream",
     "text": [
      "kNN Training Accuracy: 0.5929411764705882\n",
      "Training Confusion Matrix: \n",
      "[[1696    0    0    0    0    0    0    0    0    0]\n",
      " [ 132 1567    0    0    0    0    0    0    0    0]\n",
      " [ 216  103 1425    0    0    0    0    0    0    0]\n",
      " [ 141  183  158 1236    0    0    0    0    0    0]\n",
      " [ 150  104  219  161 1077    0    0    0    0    0]\n",
      " [ 118  161  139  215  139  837    0    0    0    0]\n",
      " [ 141  148  225  202  190  166  665    0    0    0]\n",
      " [ 168  185  116  179  170  177  147  572    0    0]\n",
      " [ 236  169  120  111  111  119  109  117  618    0]\n",
      " [ 126  282   95  137   64  150   90  159  172  387]]\n"
     ]
    }
   ],
   "source": [
    "# training metrics\r\n",
    "y_tr_pred = clf.predict(X_lda)\r\n",
    "train_acc = accuracy_score(y_tr_pred, y_train)\r\n",
    "train_conf_mat = confusion_matrix(y_train, y_tr_pred)\r\n",
    "\r\n",
    "print(f'kNN Training Accuracy: {train_acc}')\r\n",
    "print(f'Training Confusion Matrix: \\n{train_conf_mat}', )"
   ]
  },
  {
   "cell_type": "code",
   "execution_count": null,
   "metadata": {
    "colab": {
     "base_uri": "https://localhost:8080/"
    },
    "id": "kckpeO2f9fT7",
    "outputId": "a31ba69e-dd4c-4f42-88d5-bf9bcddf7fae"
   },
   "outputs": [
    {
     "name": "stdout",
     "output_type": "stream",
     "text": [
      "kNN Trained Classifier (Testing) Accuracy: 0.113\n",
      "Confusion Matrix: \n",
      "[[ 78   2  61  18  61   7 687   2  84   0]\n",
      " [  1   1   5   4   3   1 972   0  13   0]\n",
      " [ 88   6  90  25  85  10 654   2  40   0]\n",
      " [ 16   3  30   8  18   5 895   1  24   0]\n",
      " [ 70  11  86  39 101   9 619   2  63   0]\n",
      " [ 14   3  23   5  32   2 897   0  24   0]\n",
      " [ 30   6  46  21  91   4 765   0  37   0]\n",
      " [  5   2  15   3  20   1 926   0  28   0]\n",
      " [ 44   5  25  13  25   1 801   1  85   0]\n",
      " [  2   0   3   1   4   1 971   0  18   0]]\n"
     ]
    }
   ],
   "source": [
    "# testing metrics\r\n",
    "y_pred = clf.predict(X_test)\r\n",
    "test_acc = accuracy_score(y_test, y_pred)\r\n",
    "conf_mat = confusion_matrix(y_test, y_pred)\r\n",
    "\r\n",
    "print(f'kNN Trained Classifier (Testing) Accuracy: {test_acc}')\r\n",
    "print(f'Confusion Matrix: \\n{conf_mat}', )"
   ]
  },
  {
   "cell_type": "code",
   "execution_count": null,
   "metadata": {
    "colab": {
     "base_uri": "https://localhost:8080/"
    },
    "id": "atDYt6oE9qhf",
    "outputId": "5f18e72f-495c-4589-a956-454f92dd0d1e"
   },
   "outputs": [
    {
     "name": "stdout",
     "output_type": "stream",
     "text": [
      "NearestCentroid(metric='euclidean', shrink_threshold=0.5)\n"
     ]
    }
   ],
   "source": [
    "#Nearest Centroid classification\r\n",
    "classifier = NearestCentroid(shrink_threshold=.5)\r\n",
    "classifier.fit(X_lda, y_train)\r\n",
    "NearestCentroid(metric='euclidean', shrink_threshold=None)\r\n",
    "print (classifier)\r\n"
   ]
  },
  {
   "cell_type": "code",
   "execution_count": null,
   "metadata": {
    "colab": {
     "base_uri": "https://localhost:8080/"
    },
    "id": "zYpsOALE9vb0",
    "outputId": "5dda87b6-451a-4b7a-9204-f6323e7cff47"
   },
   "outputs": [
    {
     "name": "stdout",
     "output_type": "stream",
     "text": [
      "Nearest Centroid Training Accuracy: 0.143\n",
      "Training Confusion Matrix: \n",
      "[[ 113   13   71   11   36   40   21 1286   73   32]\n",
      " [   1    3    1    2    5    6    3 1671    6    1]\n",
      " [  65    7  201   32   97   67   27 1204   27   17]\n",
      " [  13    5   19   14   25   39   18 1571    7    7]\n",
      " [  34   10   90   27  176  145   44 1150   22   13]\n",
      " [   7    3   15    6   25   40    4 1500    6    3]\n",
      " [  17    5   52   26   68   92   84 1369   15    9]\n",
      " [   4    3   13    5   11   32   12 1627    4    3]\n",
      " [  16   13   17    3   18   30   13 1396  169   35]\n",
      " [   1    1    1    2    1    5    0 1640    7    4]]\n"
     ]
    }
   ],
   "source": [
    "# training metrics\r\n",
    "y_tr_pred = classifier.predict(X_lda)\r\n",
    "train_acc = accuracy_score(y_tr_pred, y_train)\r\n",
    "train_conf_mat = confusion_matrix(y_train, y_tr_pred)\r\n",
    "\r\n",
    "print(f'Nearest Centroid Training Accuracy: {train_acc}')\r\n",
    "print(f'Training Confusion Matrix: \\n{train_conf_mat}', )"
   ]
  },
  {
   "cell_type": "code",
   "execution_count": null,
   "metadata": {
    "colab": {
     "base_uri": "https://localhost:8080/"
    },
    "id": "3EsX9Khg913R",
    "outputId": "4329c97a-8d2b-428d-a403-4cb4dcc3a0b7"
   },
   "outputs": [
    {
     "name": "stdout",
     "output_type": "stream",
     "text": [
      "Nearest Centroid Trained Classifier (Testing) Accuracy: 0.1219\n",
      "Confusion Matrix: \n",
      "[[ 39   0  31   4  20 796   9  81  20   0]\n",
      " [  0   0   0   0   0 975   4  20   1   0]\n",
      " [ 33   0  64   2  48 775  17  54   7   0]\n",
      " [  4   0   3   3  13 948   6  21   2   0]\n",
      " [ 23   0  49  11  65 776  21  44  11   0]\n",
      " [  3   0   5   0  11 955   0  25   1   0]\n",
      " [  4   0  13   2  21 878  23  57   2   0]\n",
      " [  3   0   5   0   5 960   2  24   1   0]\n",
      " [  8   0   5   1   7 857   3  72  46   1]\n",
      " [  0   0   0   0   2 990   1   7   0   0]]\n"
     ]
    }
   ],
   "source": [
    "# testing metrics\r\n",
    "y_pred = classifier.predict(X_test)\r\n",
    "test_acc = accuracy_score(y_test, y_pred)\r\n",
    "conf_mat = confusion_matrix(y_test, y_pred)\r\n",
    "\r\n",
    "print(f'Nearest Centroid Trained Classifier (Testing) Accuracy: {test_acc}')\r\n",
    "print(f'Confusion Matrix: \\n{conf_mat}', )"
   ]
  }
 ],
 "metadata": {
  "colab": {
   "name": "kpca_lda.ipynb",
   "provenance": []
  },
  "kernelspec": {
   "name": "python3",
   "display_name": "Python 3"
  }
 },
 "nbformat": 4,
 "nbformat_minor": 0
}
